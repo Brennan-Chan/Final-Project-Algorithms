{
 "cells": [
  {
   "cell_type": "markdown",
   "metadata": {},
   "source": [
    "## Research Question \n",
    "people think that SPEED is good but in reality X is better \n",
    "\n",
    "\n",
    "- Can we predict what will be good later \n",
    "- Why Cause I compete \n"
   ]
  },
  {
   "cell_type": "code",
   "execution_count": 1,
   "metadata": {},
   "outputs": [],
   "source": [
    "import pandas as pd   \n",
    "import numpy as np\n",
    "import matplotlib.pyplot as plt\n",
    "from sklearn.model_selection import train_test_split \n",
    "from sklearn.metrics import accuracy_score, precision_score, recall_score, f1_score, roc_auc_score, roc_curve\n",
    "from sklearn.tree import DecisionTreeClassifier\n",
    "from sklearn.metrics import accuracy_score, classification_report\n",
    "from sklearn import tree\n",
    "from sklearn.ensemble import RandomForestClassifier\n",
    "from sklearn.metrics import classification_report\n",
    "from sklearn.metrics import confusion_matrix, roc_curve, roc_auc_score\n",
    "import seaborn as sns\n",
    "import requests\n",
    "\n",
    "# Modelling\n",
    "from sklearn.ensemble import RandomForestClassifier\n",
    "from sklearn.metrics import accuracy_score, confusion_matrix, precision_score, recall_score, ConfusionMatrixDisplay\n",
    "from sklearn.model_selection import RandomizedSearchCV, train_test_split\n",
    "from scipy.stats import randint\n",
    "\n",
    "# Tree Visualisation\n",
    "from sklearn.tree import export_graphviz\n",
    "from IPython.display import Image\n",
    "import graphviz"
   ]
  },
  {
   "cell_type": "code",
   "execution_count": 2,
   "metadata": {},
   "outputs": [],
   "source": [
    "# just testing pokemon api \n",
    "def get_pokemon(gen_name):\n",
    "    check = f\"https://smogonapi.herokuapp.com/GetPokemonByGen/{gen_name}/\"\n",
    "    \n",
    "    response = requests.get(check)\n",
    "        \n",
    "        # Check if the request was successful (status code 200)\n",
    "    if response.status_code == 200:\n",
    "        # Parse the JSON response\n",
    "        matches = response.json()\n",
    "        return matches\n",
    "    else:\n",
    "        print(\"Error:\", response.status_code)\n",
    "        return None"
   ]
  },
  {
   "cell_type": "code",
   "execution_count": 9,
   "metadata": {},
   "outputs": [
    {
     "name": "stdout",
     "output_type": "stream",
     "text": [
      "<class 'list'>\n",
      "                    name   hp  atk  def  spa  spd  spe  weight  height  \\\n",
      "0              Stratagem   90   60   65  120   70  130    45.0     0.9   \n",
      "1              Arghonaut  105  110   95   70  100   75   151.0     1.7   \n",
      "2               Kitsunoh   80  103   85   55   80  110    51.0     1.1   \n",
      "3                Cyclohm  108   60  118  112   70   80    59.0     1.6   \n",
      "4              Colossoil  133  122   72   71   72   95   683.6     2.6   \n",
      "...                  ...  ...  ...  ...  ...  ...  ...     ...     ...   \n",
      "1350  Meloetta-Pirouette  100  128   90   77   77  128     6.5     0.6   \n",
      "1351       Inteleon-Gmax   70   85   65  125   65  120     0.0    40.0   \n",
      "1352       Kyogre-Primal  100  150   90  180  160   90   430.0     9.8   \n",
      "1353   Cramorant-Gulping   70   85   55   85   95   85    18.0     0.8   \n",
      "1354       Appletun-Gmax  110   85   80  100   80   30     0.0    24.0   \n",
      "\n",
      "                   types                       abilities         formats  \\\n",
      "0                 [Rock]  [Levitate, Technician, Sniper]           [CAP]   \n",
      "1      [Water, Fighting]           [Unaware, Technician]           [CAP]   \n",
      "2         [Ghost, Steel]      [Frisk, Limber, Iron Fist]           [CAP]   \n",
      "3     [Electric, Dragon]     [Shield Dust, Static, Damp]           [CAP]   \n",
      "4         [Ground, Dark]        [Rebound, Guts, Unnerve]           [CAP]   \n",
      "...                  ...                             ...             ...   \n",
      "1350  [Normal, Fighting]                  [Serene Grace]            [PU]   \n",
      "1351             [Water]               [Torrent, Sniper]  [National Dex]   \n",
      "1352             [Water]                [Primordial Sea]  [National Dex]   \n",
      "1353     [Flying, Water]                  [Gulp Missile]            [PU]   \n",
      "1354     [Grass, Dragon]    [Ripen, Gluttony, Thick Fat]  [National Dex]   \n",
      "\n",
      "     isNonstandard  oob.dex_number oob.evos oob.alts  \\\n",
      "0              CAP           -11.0       []       []   \n",
      "1              CAP           -13.0       []       []   \n",
      "2              CAP           -14.0       []       []   \n",
      "3              CAP           -15.0       []       []   \n",
      "4              CAP           -16.0       []       []   \n",
      "...            ...             ...      ...      ...   \n",
      "1350      Standard             NaN      NaN      NaN   \n",
      "1351        NatDex             NaN      NaN      NaN   \n",
      "1352        NatDex             NaN      NaN      NaN   \n",
      "1353      Standard             NaN      NaN      NaN   \n",
      "1354        NatDex             NaN      NaN      NaN   \n",
      "\n",
      "                 oob.genfamily  oob  \n",
      "0     [DP, BW, XY, SM, SS, SV]  NaN  \n",
      "1     [DP, BW, XY, SM, SS, SV]  NaN  \n",
      "2     [DP, BW, XY, SM, SS, SV]  NaN  \n",
      "3     [DP, BW, XY, SM, SS, SV]  NaN  \n",
      "4     [DP, BW, XY, SM, SS, SV]  NaN  \n",
      "...                        ...  ...  \n",
      "1350                       NaN  NaN  \n",
      "1351                       NaN  NaN  \n",
      "1352                       NaN  NaN  \n",
      "1353                       NaN  NaN  \n",
      "1354                       NaN  NaN  \n",
      "\n",
      "[1355 rows x 18 columns]\n"
     ]
    }
   ],
   "source": [
    "sv_pokemon = get_pokemon(\"sv\")\n",
    "\n",
    "print(type(sv_pokemon))\n",
    "\n",
    "sv_pokemon_df = pd.json_normalize(sv_pokemon)\n",
    "\n",
    "print(sv_pokemon_df)"
   ]
  },
  {
   "cell_type": "code",
   "execution_count": 5,
   "metadata": {},
   "outputs": [
    {
     "name": "stdout",
     "output_type": "stream",
     "text": [
      "name\n",
      "hp\n",
      "atk\n",
      "def\n",
      "spa\n",
      "spd\n",
      "spe\n",
      "weight\n",
      "height\n",
      "types\n",
      "abilities\n",
      "formats\n",
      "isNonstandard\n",
      "oob.dex_number\n",
      "oob.evos\n",
      "oob.alts\n",
      "oob.genfamily\n",
      "oob\n"
     ]
    }
   ],
   "source": [
    "for cols in sv_pokemon_df.columns:\n",
    "    print(cols)"
   ]
  },
  {
   "cell_type": "code",
   "execution_count": 12,
   "metadata": {},
   "outputs": [
    {
     "data": {
      "text/plain": [
       "array(['CAP', 'Standard', 'NatDex'], dtype=object)"
      ]
     },
     "execution_count": 12,
     "metadata": {},
     "output_type": "execute_result"
    }
   ],
   "source": [
    "# tier ranking \n",
    "unique_values = sv_pokemon_df['isNonstandard'].explode().unique()\n",
    "unique_values"
   ]
  },
  {
   "cell_type": "code",
   "execution_count": 14,
   "metadata": {},
   "outputs": [],
   "source": [
    "def filter_lists(lst):\n",
    "    return 'Standard' in lst"
   ]
  },
  {
   "cell_type": "code",
   "execution_count": 15,
   "metadata": {},
   "outputs": [
    {
     "name": "stdout",
     "output_type": "stream",
     "text": [
      "                    name   hp  atk  def  spa  spd  spe  weight  height  \\\n",
      "36             Bulbasaur   45   49   49   65   65   45     6.9     0.7   \n",
      "38               Voltorb   40   30   50   55   55  100    10.4     0.5   \n",
      "39         Voltorb-Hisui   40   30   50   55   55  100    13.0     0.5   \n",
      "40             Gholdengo   87   60   95  133   91   84    30.0     1.2   \n",
      "41              Wo-Chien   85   85  100   95  135   70    74.2     1.5   \n",
      "...                  ...  ...  ...  ...  ...  ...  ...     ...     ...   \n",
      "1289       Minior-Meteor   60   60  100   60  100   60    40.0     0.3   \n",
      "1290   Ogerpon-Teal-Tera   80  120   84   60   96  110    39.8     1.2   \n",
      "1301        Palafin-Hero  100  160   97  106   87  100    97.4     1.8   \n",
      "1350  Meloetta-Pirouette  100  128   90   77   77  128     6.5     0.6   \n",
      "1353   Cramorant-Gulping   70   85   55   85   95   85    18.0     0.8   \n",
      "\n",
      "                   types                        abilities formats  \\\n",
      "36       [Grass, Poison]          [Overgrow, Chlorophyll]    [LC]   \n",
      "38            [Electric]  [Soundproof, Static, Aftermath]    [LC]   \n",
      "39     [Electric, Grass]  [Soundproof, Static, Aftermath]    [LC]   \n",
      "40        [Steel, Ghost]                   [Good as Gold]    [OU]   \n",
      "41         [Dark, Grass]                [Tablets of Ruin]    [PU]   \n",
      "...                  ...                              ...     ...   \n",
      "1289      [Rock, Flying]                   [Shields Down]    [PU]   \n",
      "1290             [Grass]           [Embody Aspect (Teal)]    [UU]   \n",
      "1301             [Water]                   [Zero to Hero]  [Uber]   \n",
      "1350  [Normal, Fighting]                   [Serene Grace]    [PU]   \n",
      "1353     [Flying, Water]                   [Gulp Missile]    [PU]   \n",
      "\n",
      "     isNonstandard  oob.dex_number           oob.evos oob.alts  \\\n",
      "36        Standard             1.0          [Ivysaur]       []   \n",
      "38        Standard           100.0        [Electrode]       []   \n",
      "39        Standard           100.0  [Electrode-Hisui]       []   \n",
      "40        Standard          1000.0                 []       []   \n",
      "41        Standard          1001.0                 []       []   \n",
      "...            ...             ...                ...      ...   \n",
      "1289      Standard             NaN                NaN      NaN   \n",
      "1290      Standard             NaN                NaN      NaN   \n",
      "1301      Standard             NaN                NaN      NaN   \n",
      "1350      Standard             NaN                NaN      NaN   \n",
      "1353      Standard             NaN                NaN      NaN   \n",
      "\n",
      "                             oob.genfamily  oob  \n",
      "36    [RB, GS, RS, DP, BW, XY, SM, SS, SV]  NaN  \n",
      "38    [RB, GS, RS, DP, BW, XY, SM, SS, SV]  NaN  \n",
      "39                                [SS, SV]  NaN  \n",
      "40                                    [SV]  NaN  \n",
      "41                                    [SV]  NaN  \n",
      "...                                    ...  ...  \n",
      "1289                                   NaN  NaN  \n",
      "1290                                   NaN  NaN  \n",
      "1301                                   NaN  NaN  \n",
      "1350                                   NaN  NaN  \n",
      "1353                                   NaN  NaN  \n",
      "\n",
      "[873 rows x 18 columns]\n"
     ]
    }
   ],
   "source": [
    "# Apply the function to filter out rows\n",
    "filtered_df = sv_pokemon_df[sv_pokemon_df['isNonstandard'].apply(filter_lists)]\n",
    "\n",
    "print(filtered_df)"
   ]
  },
  {
   "cell_type": "code",
   "execution_count": null,
   "metadata": {},
   "outputs": [],
   "source": [
    "def Tier_Define(df):\n",
    "    for index, row in df.iterrows():\n",
    "        \n",
    "        "
   ]
  }
 ],
 "metadata": {
  "kernelspec": {
   "display_name": ".venv",
   "language": "python",
   "name": "python3"
  },
  "language_info": {
   "codemirror_mode": {
    "name": "ipython",
    "version": 3
   },
   "file_extension": ".py",
   "mimetype": "text/x-python",
   "name": "python",
   "nbconvert_exporter": "python",
   "pygments_lexer": "ipython3",
   "version": "3.11.9"
  }
 },
 "nbformat": 4,
 "nbformat_minor": 2
}
