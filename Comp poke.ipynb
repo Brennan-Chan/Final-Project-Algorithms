{
 "cells": [
  {
   "cell_type": "code",
   "execution_count": 1,
   "metadata": {},
   "outputs": [],
   "source": [
    "import pandas as pd   \n",
    "import numpy as np\n",
    "import matplotlib.pyplot as plt\n",
    "from sklearn.model_selection import train_test_split \n",
    "from sklearn.metrics import accuracy_score, precision_score, recall_score, f1_score, roc_auc_score, roc_curve\n",
    "from sklearn.tree import DecisionTreeClassifier\n",
    "from sklearn.metrics import accuracy_score, classification_report\n",
    "from sklearn import tree\n",
    "from sklearn.ensemble import RandomForestClassifier\n",
    "from sklearn.metrics import classification_report\n",
    "from sklearn.metrics import confusion_matrix, roc_curve, roc_auc_score\n",
    "import seaborn as sns\n",
    "import requests\n",
    "\n",
    "# Modelling\n",
    "from sklearn.ensemble import RandomForestClassifier\n",
    "from sklearn.metrics import accuracy_score, confusion_matrix, precision_score, recall_score, ConfusionMatrixDisplay\n",
    "from sklearn.model_selection import RandomizedSearchCV, train_test_split\n",
    "from scipy.stats import randint\n",
    "\n",
    "# Tree Visualisation\n",
    "from sklearn.tree import export_graphviz\n",
    "from IPython.display import Image\n",
    "import graphviz"
   ]
  },
  {
   "cell_type": "code",
   "execution_count": 2,
   "metadata": {},
   "outputs": [],
   "source": [
    "# just testing pokemon api \n",
    "def get_pokemon(gen_name):\n",
    "    check = f\"https://smogonapi.herokuapp.com/GetPokemonByGen/{gen_name}/\"\n",
    "    \n",
    "    response = requests.get(check)\n",
    "        \n",
    "        # Check if the request was successful (status code 200)\n",
    "    if response.status_code == 200:\n",
    "        # Parse the JSON response\n",
    "        matches = response.json()\n",
    "        return matches\n",
    "    else:\n",
    "        print(\"Error:\", response.status_code)\n",
    "        return None"
   ]
  },
  {
   "cell_type": "code",
   "execution_count": 6,
   "metadata": {},
   "outputs": [
    {
     "name": "stdout",
     "output_type": "stream",
     "text": [
      "<class 'list'>\n",
      "        name   hp  atk  def  spa  spd  spe  weight  height  \\\n",
      "0  Stratagem   90   60   65  120   70  130    45.0     0.9   \n",
      "1  Arghonaut  105  110   95   70  100   75   151.0     1.7   \n",
      "2   Kitsunoh   80  103   85   55   80  110    51.0     1.1   \n",
      "3    Cyclohm  108   60  118  112   70   80    59.0     1.6   \n",
      "4  Colossoil  133  122   72   71   72   95   683.6     2.6   \n",
      "\n",
      "                types                       abilities formats isNonstandard  \\\n",
      "0              [Rock]  [Levitate, Technician, Sniper]   [CAP]           CAP   \n",
      "1   [Water, Fighting]           [Unaware, Technician]   [CAP]           CAP   \n",
      "2      [Ghost, Steel]      [Frisk, Limber, Iron Fist]   [CAP]           CAP   \n",
      "3  [Electric, Dragon]     [Shield Dust, Static, Damp]   [CAP]           CAP   \n",
      "4      [Ground, Dark]        [Rebound, Guts, Unnerve]   [CAP]           CAP   \n",
      "\n",
      "   oob.dex_number oob.evos oob.alts             oob.genfamily  oob  \n",
      "0           -11.0       []       []  [DP, BW, XY, SM, SS, SV]  NaN  \n",
      "1           -13.0       []       []  [DP, BW, XY, SM, SS, SV]  NaN  \n",
      "2           -14.0       []       []  [DP, BW, XY, SM, SS, SV]  NaN  \n",
      "3           -15.0       []       []  [DP, BW, XY, SM, SS, SV]  NaN  \n",
      "4           -16.0       []       []  [DP, BW, XY, SM, SS, SV]  NaN  \n"
     ]
    }
   ],
   "source": [
    "sv_pokemon = get_pokemon(\"sv\")\n",
    "\n",
    "print(type(sv_pokemon))\n",
    "\n",
    "sv_pokemon_df = pd.json_normalize(sv_pokemon)\n",
    "\n",
    "print(sv_pokemon_df.head())\n",
    "\n"
   ]
  },
  {
   "cell_type": "code",
   "execution_count": 7,
   "metadata": {},
   "outputs": [
    {
     "name": "stdout",
     "output_type": "stream",
     "text": [
      "name\n",
      "hp\n",
      "atk\n",
      "def\n",
      "spa\n",
      "spd\n",
      "spe\n",
      "weight\n",
      "height\n",
      "types\n",
      "abilities\n",
      "formats\n",
      "isNonstandard\n",
      "oob.dex_number\n",
      "oob.evos\n",
      "oob.alts\n",
      "oob.genfamily\n",
      "oob\n"
     ]
    }
   ],
   "source": [
    "for cols in sv_pokemon_df.columns:\n",
    "    print(cols)"
   ]
  },
  {
   "cell_type": "code",
   "execution_count": null,
   "metadata": {},
   "outputs": [],
   "source": []
  }
 ],
 "metadata": {
  "kernelspec": {
   "display_name": ".venv",
   "language": "python",
   "name": "python3"
  },
  "language_info": {
   "codemirror_mode": {
    "name": "ipython",
    "version": 3
   },
   "file_extension": ".py",
   "mimetype": "text/x-python",
   "name": "python",
   "nbconvert_exporter": "python",
   "pygments_lexer": "ipython3",
   "version": "3.11.9"
  }
 },
 "nbformat": 4,
 "nbformat_minor": 2
}
