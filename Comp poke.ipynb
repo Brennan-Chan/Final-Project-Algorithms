{
 "cells": [
  {
   "cell_type": "markdown",
   "metadata": {},
   "source": [
    "## Research Question \n",
    "people think that SPEED is good indicator on which tier a pokemon will fall into but in reality X is better indicator\n",
    "\n",
    "- Can we predict what will be good later \n",
    "- Why Cause I compete \n"
   ]
  },
  {
   "cell_type": "code",
   "execution_count": 76,
   "metadata": {},
   "outputs": [],
   "source": [
    "import pandas as pd   \n",
    "import numpy as np\n",
    "import matplotlib.pyplot as plt\n",
    "from sklearn.model_selection import train_test_split \n",
    "from sklearn.metrics import accuracy_score, precision_score, recall_score, f1_score, roc_auc_score, roc_curve\n",
    "from sklearn.tree import DecisionTreeClassifier\n",
    "from sklearn.metrics import accuracy_score, classification_report\n",
    "from sklearn import tree\n",
    "from sklearn.ensemble import RandomForestClassifier\n",
    "from sklearn.metrics import classification_report\n",
    "from sklearn.metrics import confusion_matrix, roc_curve, roc_auc_score\n",
    "import seaborn as sns\n",
    "import requests\n",
    "\n",
    "# Modelling\n",
    "from sklearn.ensemble import RandomForestClassifier\n",
    "from sklearn.metrics import accuracy_score, confusion_matrix, precision_score, recall_score, ConfusionMatrixDisplay\n",
    "from sklearn.model_selection import RandomizedSearchCV, train_test_split\n",
    "from scipy.stats import randint\n",
    "\n",
    "# Tree Visualisation\n",
    "from sklearn.tree import export_graphviz\n",
    "from IPython.display import Image\n",
    "import graphviz\n",
    "\n",
    "# K means \n",
    "from sklearn.cluster import KMeans"
   ]
  },
  {
   "cell_type": "code",
   "execution_count": 56,
   "metadata": {},
   "outputs": [],
   "source": [
    "# just testing pokemon api \n",
    "def get_pokemon(gen_name):\n",
    "    check = f\"https://smogonapi.herokuapp.com/GetPokemonByGen/{gen_name}/\"\n",
    "    \n",
    "    response = requests.get(check)\n",
    "        \n",
    "        # Check if the request was successful (status code 200)\n",
    "    if response.status_code == 200:\n",
    "        # Parse the JSON response\n",
    "        matches = response.json()\n",
    "        return matches\n",
    "    else:\n",
    "        print(\"Error:\", response.status_code)\n",
    "        return None"
   ]
  },
  {
   "cell_type": "code",
   "execution_count": 57,
   "metadata": {},
   "outputs": [],
   "source": [
    "# list of Good abilities there should be more \n",
    "GoodAbil = ['Poison Heal', 'Technician', 'Unaware', 'Static', 'Regenerator',\n",
    "            'Magic Guard', 'Libero', 'Good as Gold', 'Contrary', 'Protean', \n",
    "            'Multiscale', 'Speed Boost', 'Huge Power', 'Wonder Guard']"
   ]
  },
  {
   "cell_type": "code",
   "execution_count": 58,
   "metadata": {},
   "outputs": [
    {
     "name": "stdout",
     "output_type": "stream",
     "text": [
      "<class 'list'>\n",
      "                    name   hp  atk  def  spa  spd  spe  weight  height  \\\n",
      "0              Stratagem   90   60   65  120   70  130    45.0     0.9   \n",
      "1              Arghonaut  105  110   95   70  100   75   151.0     1.7   \n",
      "2               Kitsunoh   80  103   85   55   80  110    51.0     1.1   \n",
      "3                Cyclohm  108   60  118  112   70   80    59.0     1.6   \n",
      "4              Colossoil  133  122   72   71   72   95   683.6     2.6   \n",
      "...                  ...  ...  ...  ...  ...  ...  ...     ...     ...   \n",
      "1350  Meloetta-Pirouette  100  128   90   77   77  128     6.5     0.6   \n",
      "1351       Inteleon-Gmax   70   85   65  125   65  120     0.0    40.0   \n",
      "1352       Kyogre-Primal  100  150   90  180  160   90   430.0     9.8   \n",
      "1353   Cramorant-Gulping   70   85   55   85   95   85    18.0     0.8   \n",
      "1354       Appletun-Gmax  110   85   80  100   80   30     0.0    24.0   \n",
      "\n",
      "                   types                       abilities         formats  \\\n",
      "0                 [Rock]  [Levitate, Technician, Sniper]           [CAP]   \n",
      "1      [Water, Fighting]           [Unaware, Technician]           [CAP]   \n",
      "2         [Ghost, Steel]      [Frisk, Limber, Iron Fist]           [CAP]   \n",
      "3     [Electric, Dragon]     [Shield Dust, Static, Damp]           [CAP]   \n",
      "4         [Ground, Dark]        [Rebound, Guts, Unnerve]           [CAP]   \n",
      "...                  ...                             ...             ...   \n",
      "1350  [Normal, Fighting]                  [Serene Grace]            [PU]   \n",
      "1351             [Water]               [Torrent, Sniper]  [National Dex]   \n",
      "1352             [Water]                [Primordial Sea]  [National Dex]   \n",
      "1353     [Flying, Water]                  [Gulp Missile]            [PU]   \n",
      "1354     [Grass, Dragon]    [Ripen, Gluttony, Thick Fat]  [National Dex]   \n",
      "\n",
      "     isNonstandard  oob.dex_number oob.evos oob.alts  \\\n",
      "0              CAP           -11.0       []       []   \n",
      "1              CAP           -13.0       []       []   \n",
      "2              CAP           -14.0       []       []   \n",
      "3              CAP           -15.0       []       []   \n",
      "4              CAP           -16.0       []       []   \n",
      "...            ...             ...      ...      ...   \n",
      "1350      Standard             NaN      NaN      NaN   \n",
      "1351        NatDex             NaN      NaN      NaN   \n",
      "1352        NatDex             NaN      NaN      NaN   \n",
      "1353      Standard             NaN      NaN      NaN   \n",
      "1354        NatDex             NaN      NaN      NaN   \n",
      "\n",
      "                 oob.genfamily  oob  \n",
      "0     [DP, BW, XY, SM, SS, SV]  NaN  \n",
      "1     [DP, BW, XY, SM, SS, SV]  NaN  \n",
      "2     [DP, BW, XY, SM, SS, SV]  NaN  \n",
      "3     [DP, BW, XY, SM, SS, SV]  NaN  \n",
      "4     [DP, BW, XY, SM, SS, SV]  NaN  \n",
      "...                        ...  ...  \n",
      "1350                       NaN  NaN  \n",
      "1351                       NaN  NaN  \n",
      "1352                       NaN  NaN  \n",
      "1353                       NaN  NaN  \n",
      "1354                       NaN  NaN  \n",
      "\n",
      "[1355 rows x 18 columns]\n"
     ]
    }
   ],
   "source": [
    "sv_pokemon = get_pokemon(\"sv\")\n",
    "\n",
    "print(type(sv_pokemon))\n",
    "\n",
    "sv_pokemon_df = pd.json_normalize(sv_pokemon)\n",
    "\n",
    "print(sv_pokemon_df)"
   ]
  },
  {
   "cell_type": "code",
   "execution_count": 59,
   "metadata": {},
   "outputs": [
    {
     "name": "stdout",
     "output_type": "stream",
     "text": [
      "name\n",
      "hp\n",
      "atk\n",
      "def\n",
      "spa\n",
      "spd\n",
      "spe\n",
      "weight\n",
      "height\n",
      "types\n",
      "abilities\n",
      "formats\n",
      "isNonstandard\n",
      "oob.dex_number\n",
      "oob.evos\n",
      "oob.alts\n",
      "oob.genfamily\n",
      "oob\n"
     ]
    }
   ],
   "source": [
    "for cols in sv_pokemon_df.columns:\n",
    "    print(cols)"
   ]
  },
  {
   "cell_type": "code",
   "execution_count": 62,
   "metadata": {},
   "outputs": [],
   "source": [
    "# filter out non standard \n",
    "def filter_lists(lst):\n",
    "    return 'Standard' in lst\n",
    "\n",
    "# filter out little cup \n",
    "def contains_lc(arr):\n",
    "    return 'LC' in arr"
   ]
  },
  {
   "cell_type": "code",
   "execution_count": 64,
   "metadata": {},
   "outputs": [
    {
     "name": "stdout",
     "output_type": "stream",
     "text": [
      "                    name   hp  atk  def  spa  spd  spe  weight  height  \\\n",
      "40             Gholdengo   87   60   95  133   91   84    30.0     1.2   \n",
      "41              Wo-Chien   85   85  100   95  135   70    74.2     1.5   \n",
      "42             Chien-Pao   80  120   80   90   65  135   152.2     1.9   \n",
      "43               Ting-Lu  155  110  125   55   80   45   699.7     2.7   \n",
      "44                Chi-Yu   55   80   80  135  120  100     4.9     0.4   \n",
      "...                  ...  ...  ...  ...  ...  ...  ...     ...     ...   \n",
      "1289       Minior-Meteor   60   60  100   60  100   60    40.0     0.3   \n",
      "1290   Ogerpon-Teal-Tera   80  120   84   60   96  110    39.8     1.2   \n",
      "1301        Palafin-Hero  100  160   97  106   87  100    97.4     1.8   \n",
      "1350  Meloetta-Pirouette  100  128   90   77   77  128     6.5     0.6   \n",
      "1353   Cramorant-Gulping   70   85   55   85   95   85    18.0     0.8   \n",
      "\n",
      "                   types               abilities formats isNonstandard  \\\n",
      "40        [Steel, Ghost]          [Good as Gold]    [OU]      Standard   \n",
      "41         [Dark, Grass]       [Tablets of Ruin]    [PU]      Standard   \n",
      "42           [Dark, Ice]         [Sword of Ruin]  [Uber]      Standard   \n",
      "43        [Dark, Ground]        [Vessel of Ruin]    [OU]      Standard   \n",
      "44          [Dark, Fire]         [Beads of Ruin]  [Uber]      Standard   \n",
      "...                  ...                     ...     ...           ...   \n",
      "1289      [Rock, Flying]          [Shields Down]    [PU]      Standard   \n",
      "1290             [Grass]  [Embody Aspect (Teal)]    [UU]      Standard   \n",
      "1301             [Water]          [Zero to Hero]  [Uber]      Standard   \n",
      "1350  [Normal, Fighting]          [Serene Grace]    [PU]      Standard   \n",
      "1353     [Flying, Water]          [Gulp Missile]    [PU]      Standard   \n",
      "\n",
      "      oob.dex_number oob.evos oob.alts oob.genfamily  oob  \n",
      "40            1000.0       []       []          [SV]  NaN  \n",
      "41            1001.0       []       []          [SV]  NaN  \n",
      "42            1002.0       []       []          [SV]  NaN  \n",
      "43            1003.0       []       []          [SV]  NaN  \n",
      "44            1004.0       []       []          [SV]  NaN  \n",
      "...              ...      ...      ...           ...  ...  \n",
      "1289             NaN      NaN      NaN           NaN  NaN  \n",
      "1290             NaN      NaN      NaN           NaN  NaN  \n",
      "1301             NaN      NaN      NaN           NaN  NaN  \n",
      "1350             NaN      NaN      NaN           NaN  NaN  \n",
      "1353             NaN      NaN      NaN           NaN  NaN  \n",
      "\n",
      "[644 rows x 18 columns]\n"
     ]
    }
   ],
   "source": [
    "# Apply the function to filter out rows\n",
    "filtered_df = sv_pokemon_df[sv_pokemon_df['isNonstandard'].apply(filter_lists)]\n",
    "filtered_df = filtered_df[~filtered_df['formats'].apply(contains_lc)]\n",
    "\n",
    "print(filtered_df)"
   ]
  },
  {
   "cell_type": "code",
   "execution_count": 65,
   "metadata": {},
   "outputs": [
    {
     "data": {
      "text/plain": [
       "array(['OU', 'PU', 'Uber', 'ZU', 'RU', 'UU', 'NU', 'UUBL', 'NFE', 'NUBL',\n",
       "       'ZUBL', 'RUBL', 'PUBL', 'AG'], dtype=object)"
      ]
     },
     "execution_count": 65,
     "metadata": {},
     "output_type": "execute_result"
    }
   ],
   "source": [
    "# tier ranking \n",
    "unique_values = filtered_df['isNonstandard'].explode().unique()\n",
    "unique_values\n",
    "\n",
    "# formats  \n",
    "unique_values = filtered_df['formats'].explode().unique()\n",
    "unique_values"
   ]
  },
  {
   "cell_type": "code",
   "execution_count": 98,
   "metadata": {},
   "outputs": [],
   "source": [
    "def Tier_Define(df):\n",
    "    # the lower the value the better the tier with anything less than 1 being banned\n",
    "    mapping = {'OU': 1, 'PU': 5, 'Uber': 0, 'ZU': 6, 'RU': 3, 'UU': 2, 'NU': 4,\n",
    "                'UUBL': 1.5, 'NFE': 7, 'NUBL': 3.5, 'ZUBL': 5.5, 'RUBL': 2.5, 'PUBL': 4.5, 'AG': -1}\n",
    "    \n",
    "    # Function to handle lists in the 'formats' column\n",
    "    def map_format(x):\n",
    "        if isinstance(x, list):\n",
    "            if x:\n",
    "                return mapping.get(x[0])  # Map the first element of the list\n",
    "            else:\n",
    "                return None\n",
    "        else:\n",
    "            return mapping.get(x)\n",
    "    \n",
    "    # Apply the mapping function to the 'formats' column\n",
    "    df['mapped_tiers'] = df['formats'].apply(map_format)\n",
    "    \n",
    "    return df\n",
    "\n",
    "def Sort_Mons_names(df):\n",
    "    sorted_df = df.sort_values(by='name')\n",
    "    return sorted_df\n",
    "\n",
    "def get_bst(df):\n",
    "    ans = df\n",
    "    columns_to_sum = ['hp', 'atk', 'def', 'spa', 'spd', 'spe']\n",
    "    ans['bst'] = df[columns_to_sum].sum(axis=1)\n",
    "    # ans['bst'] = df[['hp', 'atk', 'def', 'spa', 'spd', 'spe']].sum(axis=1)\n",
    "    \n",
    "    return ans"
   ]
  },
  {
   "cell_type": "code",
   "execution_count": 99,
   "metadata": {},
   "outputs": [
    {
     "name": "stdout",
     "output_type": "stream",
     "text": [
      "           name   hp  atk  def  spa  spd  spe  weight  height  \\\n",
      "512   Abomasnow   90   92   75   92   85   60   135.5     2.2   \n",
      "184       Aipom   55   70   55   40   55   85    11.5     0.8   \n",
      "1080   Alcremie   65   60   75  110  121   64     0.5     0.3   \n",
      "702   Alomomola  165   75   80   40   45   65    31.6     1.2   \n",
      "365     Altaria   75   70   90   70  105   80    20.6     1.1   \n",
      "\n",
      "                 types                         abilities formats  \\\n",
      "512       [Grass, Ice]        [Snow Warning, Soundproof]    [ZU]   \n",
      "184           [Normal]    [Run Away, Pickup, Skill Link]   [NFE]   \n",
      "1080           [Fairy]          [Sweet Veil, Aroma Veil]    [PU]   \n",
      "702            [Water]  [Healer, Hydration, Regenerator]    [OU]   \n",
      "365   [Dragon, Flying]        [Natural Cure, Cloud Nine]    [PU]   \n",
      "\n",
      "     isNonstandard  oob.dex_number   oob.evos          oob.alts  \\\n",
      "512       Standard           460.0         []  [Abomasnow-Mega]   \n",
      "184       Standard           190.0  [Ambipom]                []   \n",
      "1080      Standard           869.0         []   [Alcremie-Gmax]   \n",
      "702       Standard           594.0         []                []   \n",
      "365       Standard           334.0         []    [Altaria-Mega]   \n",
      "\n",
      "                         oob.genfamily  oob  mapped_tiers  bst  \n",
      "512           [DP, BW, XY, SM, SS, SV]  NaN           6.0  494  \n",
      "184   [GS, RS, DP, BW, XY, SM, SS, SV]  NaN           7.0  360  \n",
      "1080                          [SS, SV]  NaN           5.0  495  \n",
      "702               [BW, XY, SM, SS, SV]  NaN           1.0  470  \n",
      "365       [RS, DP, BW, XY, SM, SS, SV]  NaN           5.0  490  \n"
     ]
    }
   ],
   "source": [
    "defined_df = Tier_Define(filtered_df)\n",
    "# For debugging \n",
    "# print(defined_df.head())\n",
    "\n",
    "sort_name_df = Sort_Mons_names(defined_df)\n",
    "# For debugging \n",
    "# print(sort_name_df.head())\n",
    "\n",
    "bst_df = get_bst(sort_name_df)\n",
    "# For debugging \n",
    "print(bst_df.head())\n"
   ]
  },
  {
   "cell_type": "code",
   "execution_count": 103,
   "metadata": {},
   "outputs": [
    {
     "data": {
      "image/png": "[encoded data removed]",
      "text/plain": [
       "<Figure size 640x480 with 1 Axes>"
      ]
     },
     "metadata": {},
     "output_type": "display_data"
    }
   ],
   "source": [
    "selected_features = ['bst', 'mapped_tiers', 'spe']\n",
    "\n",
    "X = bst_df[selected_features]\n",
    "\n",
    "# Perform K-means clustering\n",
    "kmeans = KMeans(n_clusters=7)\n",
    "kmeans.fit(X)\n",
    "\n",
    "# Get cluster labels\n",
    "cluster_labels = kmeans.labels_\n",
    "\n",
    "# Get cluster centers\n",
    "centers = kmeans.cluster_centers_\n",
    "\n",
    "\n",
    "plt.scatter(bst_df['bst'], bst_df['mapped_tiers'], c=cluster_labels, cmap='viridis')\n",
    "plt.scatter(centers[:, 0], centers[:, 1], marker='*', c='red', s=300)  # Plot cluster centers\n",
    "plt.xlabel('Base Stat Totals')\n",
    "plt.ylabel('Speed Stat')\n",
    "plt.title('K-means Clustering')\n",
    "plt.show()"
   ]
  }
 ],
 "metadata": {
  "kernelspec": {
   "display_name": ".venv",
   "language": "python",
   "name": "python3"
  },
  "language_info": {
   "codemirror_mode": {
    "name": "ipython",
    "version": 3
   },
   "file_extension": ".py",
   "mimetype": "text/x-python",
   "name": "python",
   "nbconvert_exporter": "python",
   "pygments_lexer": "ipython3",
   "version": "3.11.9"
  }
 },
 "nbformat": 4,
 "nbformat_minor": 2
}
